{
 "cells": [
  {
   "cell_type": "code",
   "execution_count": 1,
   "metadata": {},
   "outputs": [],
   "source": [
    "import json"
   ]
  },
  {
   "cell_type": "code",
   "execution_count": 2,
   "metadata": {},
   "outputs": [],
   "source": [
    "file_path = '/Users/befeltingu/DeepRL/Data/Gym/cartpole-experiment-1/openaigym.manifest.0.43225.manifest.json'"
   ]
  },
  {
   "cell_type": "code",
   "execution_count": 3,
   "metadata": {},
   "outputs": [],
   "source": [
    "manifest_file = open(file_path,'r')\n",
    "manifest_json = json.load(manifest_file)"
   ]
  },
  {
   "cell_type": "code",
   "execution_count": 4,
   "metadata": {},
   "outputs": [
    {
     "name": "stdout",
     "output_type": "stream",
     "text": [
      "openaigym.video.0.43225.video000000.mp4\n",
      "openaigym.video.0.43225.video000001.mp4\n",
      "openaigym.video.0.43225.video000002.mp4\n",
      "openaigym.video.0.43225.video000003.mp4\n",
      "openaigym.video.0.43225.video000004.mp4\n"
     ]
    }
   ],
   "source": [
    "for video in manifest_json['videos']:\n",
    "    print(video[0])"
   ]
  },
  {
   "cell_type": "code",
   "execution_count": 9,
   "metadata": {},
   "outputs": [
    {
     "data": {
      "text/plain": [
       "[u'stats', u'env_info', u'videos']"
      ]
     },
     "execution_count": 9,
     "metadata": {},
     "output_type": "execute_result"
    }
   ],
   "source": [
    "manifest_json.keys()"
   ]
  },
  {
   "cell_type": "code",
   "execution_count": 12,
   "metadata": {},
   "outputs": [],
   "source": [
    "meta_file_path = '/Users/befeltingu/DeepRL/Data/Gym/cartpole-experiment-1/openaigym.video.0.43225.video000000.meta.json'\n",
    "meta_file = open(meta_file_path,'r')\n",
    "meta_json = json.load(meta_file)"
   ]
  },
  {
   "cell_type": "code",
   "execution_count": 15,
   "metadata": {},
   "outputs": [
    {
     "data": {
      "text/plain": [
       "{u'content_type': u'video/mp4',\n",
       " u'encoder_version': {u'backend': u'ffmpeg',\n",
       "  u'cmdline': [u'ffmpeg',\n",
       "   u'-nostats',\n",
       "   u'-loglevel',\n",
       "   u'error',\n",
       "   u'-y',\n",
       "   u'-r',\n",
       "   u'50',\n",
       "   u'-f',\n",
       "   u'rawvideo',\n",
       "   u'-s:v',\n",
       "   u'600x400',\n",
       "   u'-pix_fmt',\n",
       "   u'rgb24',\n",
       "   u'-i',\n",
       "   u'-',\n",
       "   u'-vcodec',\n",
       "   u'libx264',\n",
       "   u'-pix_fmt',\n",
       "   u'yuv420p',\n",
       "   u'/Users/befeltingu/DeepRL/Data/Gym/cartpole-experiment-1/openaigym.video.0.43225.video000000.mp4'],\n",
       "  u'version': u'ffmpeg version 4.0.2 Copyright (c) 2000-2018 the FFmpeg developers\\nbuilt with Apple LLVM version 9.0.0 (clang-900.0.39.2)\\nconfiguration: --prefix=/usr/local/Cellar/ffmpeg/4.0.2 --enable-shared --enable-pthreads --enable-version3 --enable-hardcoded-tables --enable-avresample --cc=clang --host-cflags= --host-ldflags= --enable-gpl --enable-libmp3lame --enable-libx264 --enable-libxvid --enable-opencl --enable-videotoolbox --disable-lzma\\nlibavutil      56. 14.100 / 56. 14.100\\nlibavcodec     58. 18.100 / 58. 18.100\\nlibavformat    58. 12.100 / 58. 12.100\\nlibavdevice    58.  3.100 / 58.  3.100\\nlibavfilter     7. 16.100 /  7. 16.100\\nlibavresample   4.  0.  0 /  4.  0.  0\\nlibswscale      5.  1.100 /  5.  1.100\\nlibswresample   3.  1.100 /  3.  1.100\\nlibpostproc    55.  1.100 / 55.  1.100\\n'},\n",
       " u'episode_id': 0}"
      ]
     },
     "execution_count": 15,
     "metadata": {},
     "output_type": "execute_result"
    }
   ],
   "source": [
    "meta_json"
   ]
  },
  {
   "cell_type": "code",
   "execution_count": 5,
   "metadata": {},
   "outputs": [
    {
     "ename": "ImportError",
     "evalue": "No module named Gym.Player",
     "output_type": "error",
     "traceback": [
      "\u001b[0;31m---------------------------------------------------------------------------\u001b[0m",
      "\u001b[0;31mImportError\u001b[0m                               Traceback (most recent call last)",
      "\u001b[0;32m<ipython-input-5-b563e11a49e8>\u001b[0m in \u001b[0;36m<module>\u001b[0;34m()\u001b[0m\n\u001b[0;32m----> 1\u001b[0;31m \u001b[0;32mfrom\u001b[0m \u001b[0mGym\u001b[0m\u001b[0;34m.\u001b[0m\u001b[0mPlayer\u001b[0m \u001b[0;32mimport\u001b[0m \u001b[0mDQNAgent\u001b[0m\u001b[0;34m\u001b[0m\u001b[0m\n\u001b[0m",
      "\u001b[0;31mImportError\u001b[0m: No module named Gym.Player"
     ]
    }
   ],
   "source": [
    "from Gym.Player import DQNAgent"
   ]
  },
  {
   "cell_type": "code",
   "execution_count": null,
   "metadata": {},
   "outputs": [],
   "source": []
  }
 ],
 "metadata": {
  "anaconda-cloud": {},
  "kernelspec": {
   "display_name": "Python [anaconda]",
   "language": "python",
   "name": "Python [anaconda]"
  },
  "language_info": {
   "codemirror_mode": {
    "name": "ipython",
    "version": 2
   },
   "file_extension": ".py",
   "mimetype": "text/x-python",
   "name": "python",
   "nbconvert_exporter": "python",
   "pygments_lexer": "ipython2",
   "version": "2.7.3"
  }
 },
 "nbformat": 4,
 "nbformat_minor": 2
}
